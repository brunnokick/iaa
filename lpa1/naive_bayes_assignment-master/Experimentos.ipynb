{
 "cells": [
  {
   "cell_type": "code",
   "execution_count": 1,
   "metadata": {},
   "outputs": [],
   "source": [
    "from spam_classifier import *\n",
    "random.seed(0)"
   ]
  },
  {
   "cell_type": "code",
   "execution_count": 2,
   "metadata": {},
   "outputs": [],
   "source": [
    "path = r\"emails/*/*\"\n",
    "data = get_subject_data(path)\n",
    "train_data, test_data = split_data(data, 0.75)"
   ]
  },
  {
   "cell_type": "code",
   "execution_count": 3,
   "metadata": {},
   "outputs": [
    {
     "output_type": "stream",
     "name": "stdout",
     "text": "3301\n2471\n830\n"
    }
   ],
   "source": [
    "print(len(data))\n",
    "print(len(train_data))\n",
    "print(len(test_data))"
   ]
  },
  {
   "cell_type": "markdown",
   "metadata": {},
   "source": [
    "## Identificado o treshold do total de palavras as ser consideraro"
   ]
  },
  {
   "cell_type": "code",
   "execution_count": 17,
   "metadata": {},
   "outputs": [],
   "source": [
    "df_word_counts = count_words(train_data)"
   ]
  },
  {
   "cell_type": "code",
   "execution_count": 18,
   "metadata": {},
   "outputs": [],
   "source": [
    "num_spams = len([is_spam\n",
    "                 for message, is_spam in train_data\n",
    "                 if is_spam])\n",
    "num_non_spams = len(train_data) - num_spams"
   ]
  },
  {
   "cell_type": "code",
   "execution_count": 19,
   "metadata": {},
   "outputs": [],
   "source": [
    "df_word_probs = word_probabilities(df_word_counts,\n",
    "                                     num_spams,\n",
    "                                     num_non_spams)"
   ]
  },
  {
   "cell_type": "code",
   "execution_count": 20,
   "metadata": {},
   "outputs": [
    {
     "output_type": "execute_result",
     "data": {
      "text/plain": "            is_spam  not_spam  total  prob_is_spam  prob_not_spam\nfunds             3         0      3      0.009459       0.000238\ncodecs            0         3      3      0.001351       0.001664\npostgresql        0         3      3      0.001351       0.001664\ncafe              0         3      3      0.001351       0.001664\nge                2         1      3      0.006757       0.000713\n...             ...       ...    ...           ...            ...\nby              306      1926   2232      0.828378       0.916072\n2002            354      1955   2309      0.958108       0.929862\n0               357      1954   2311      0.966216       0.929387\n1               352      1961   2313      0.952703       0.932715\nfrom            369      2003   2372      0.998649       0.952687\n\n[2456 rows x 5 columns]",
      "text/html": "<div>\n<style scoped>\n    .dataframe tbody tr th:only-of-type {\n        vertical-align: middle;\n    }\n\n    .dataframe tbody tr th {\n        vertical-align: top;\n    }\n\n    .dataframe thead th {\n        text-align: right;\n    }\n</style>\n<table border=\"1\" class=\"dataframe\">\n  <thead>\n    <tr style=\"text-align: right;\">\n      <th></th>\n      <th>is_spam</th>\n      <th>not_spam</th>\n      <th>total</th>\n      <th>prob_is_spam</th>\n      <th>prob_not_spam</th>\n    </tr>\n  </thead>\n  <tbody>\n    <tr>\n      <th>funds</th>\n      <td>3</td>\n      <td>0</td>\n      <td>3</td>\n      <td>0.009459</td>\n      <td>0.000238</td>\n    </tr>\n    <tr>\n      <th>codecs</th>\n      <td>0</td>\n      <td>3</td>\n      <td>3</td>\n      <td>0.001351</td>\n      <td>0.001664</td>\n    </tr>\n    <tr>\n      <th>postgresql</th>\n      <td>0</td>\n      <td>3</td>\n      <td>3</td>\n      <td>0.001351</td>\n      <td>0.001664</td>\n    </tr>\n    <tr>\n      <th>cafe</th>\n      <td>0</td>\n      <td>3</td>\n      <td>3</td>\n      <td>0.001351</td>\n      <td>0.001664</td>\n    </tr>\n    <tr>\n      <th>ge</th>\n      <td>2</td>\n      <td>1</td>\n      <td>3</td>\n      <td>0.006757</td>\n      <td>0.000713</td>\n    </tr>\n    <tr>\n      <th>...</th>\n      <td>...</td>\n      <td>...</td>\n      <td>...</td>\n      <td>...</td>\n      <td>...</td>\n    </tr>\n    <tr>\n      <th>by</th>\n      <td>306</td>\n      <td>1926</td>\n      <td>2232</td>\n      <td>0.828378</td>\n      <td>0.916072</td>\n    </tr>\n    <tr>\n      <th>2002</th>\n      <td>354</td>\n      <td>1955</td>\n      <td>2309</td>\n      <td>0.958108</td>\n      <td>0.929862</td>\n    </tr>\n    <tr>\n      <th>0</th>\n      <td>357</td>\n      <td>1954</td>\n      <td>2311</td>\n      <td>0.966216</td>\n      <td>0.929387</td>\n    </tr>\n    <tr>\n      <th>1</th>\n      <td>352</td>\n      <td>1961</td>\n      <td>2313</td>\n      <td>0.952703</td>\n      <td>0.932715</td>\n    </tr>\n    <tr>\n      <th>from</th>\n      <td>369</td>\n      <td>2003</td>\n      <td>2372</td>\n      <td>0.998649</td>\n      <td>0.952687</td>\n    </tr>\n  </tbody>\n</table>\n<p>2456 rows × 5 columns</p>\n</div>"
     },
     "metadata": {},
     "execution_count": 20
    }
   ],
   "source": [
    "df_word_probs"
   ]
  },
  {
   "cell_type": "code",
   "execution_count": 21,
   "metadata": {},
   "outputs": [
    {
     "output_type": "execute_result",
     "data": {
      "text/plain": "(2456, 5)"
     },
     "metadata": {},
     "execution_count": 21
    }
   ],
   "source": [
    "df_quartil = df_word_probs.sort_values(by='total')\n",
    "df_quartil.shape"
   ]
  },
  {
   "cell_type": "code",
   "execution_count": 22,
   "metadata": {},
   "outputs": [
    {
     "output_type": "execute_result",
     "data": {
      "text/plain": "0.25      4.00\n0.50      7.00\n0.75     18.00\n0.95    142.25\nName: total, dtype: float64"
     },
     "metadata": {},
     "execution_count": 22
    }
   ],
   "source": [
    "df_quartil['total'].quantile([0.25,0.5,0.75, 0.95])"
   ]
  },
  {
   "cell_type": "code",
   "execution_count": 8,
   "metadata": {},
   "outputs": [
    {
     "output_type": "error",
     "ename": "NameError",
     "evalue": "name 'df_quartil' is not defined",
     "traceback": [
      "\u001b[1;31m---------------------------------------------------------------------------\u001b[0m",
      "\u001b[1;31mNameError\u001b[0m                                 Traceback (most recent call last)",
      "\u001b[1;32m<ipython-input-8-7b8561947506>\u001b[0m in \u001b[0;36m<module>\u001b[1;34m\u001b[0m\n\u001b[1;32m----> 1\u001b[1;33m \u001b[0mdf_quartil\u001b[0m\u001b[1;33m[\u001b[0m\u001b[0mdf_quartil\u001b[0m\u001b[1;33m[\u001b[0m\u001b[1;34m'total'\u001b[0m\u001b[1;33m]\u001b[0m \u001b[1;33m>=\u001b[0m \u001b[1;36m3\u001b[0m\u001b[1;33m]\u001b[0m\u001b[1;33m.\u001b[0m\u001b[0mshape\u001b[0m\u001b[1;33m\u001b[0m\u001b[1;33m\u001b[0m\u001b[0m\n\u001b[0m",
      "\u001b[1;31mNameError\u001b[0m: name 'df_quartil' is not defined"
     ]
    }
   ],
   "source": [
    "df_quartil[df_quartil['total'] >= 3].shape"
   ]
  },
  {
   "cell_type": "code",
   "execution_count": 20,
   "metadata": {},
   "outputs": [
    {
     "data": {
      "text/plain": [
       "0.25     4.0\n",
       "0.50     7.0\n",
       "0.75    18.0\n",
       "Name: total, dtype: float64"
      ]
     },
     "execution_count": 20,
     "metadata": {},
     "output_type": "execute_result"
    }
   ],
   "source": [
    "df_quartil[df_quartil['total'] >= 3]['total'] .quantile([0.25,0.5,0.75])"
   ]
  },
  {
   "cell_type": "markdown",
   "metadata": {},
   "source": [
    "---"
   ]
  },
  {
   "cell_type": "code",
   "execution_count": 23,
   "metadata": {},
   "outputs": [],
   "source": [
    "from nltk.stem import PorterStemmer"
   ]
  },
  {
   "cell_type": "code",
   "execution_count": null,
   "metadata": {},
   "outputs": [],
   "source": []
  }
 ],
 "metadata": {
  "kernelspec": {
   "display_name": "Python 3",
   "language": "python",
   "name": "python3"
  },
  "language_info": {
   "codemirror_mode": {
    "name": "ipython",
    "version": 3
   },
   "file_extension": ".py",
   "mimetype": "text/x-python",
   "name": "python",
   "nbconvert_exporter": "python",
   "pygments_lexer": "ipython3",
   "version": "3.7.6-final"
  }
 },
 "nbformat": 4,
 "nbformat_minor": 4
}